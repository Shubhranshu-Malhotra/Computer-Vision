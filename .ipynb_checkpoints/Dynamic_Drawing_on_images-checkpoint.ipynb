{
 "cells": [
  {
   "cell_type": "markdown",
   "metadata": {},
   "source": [
    "# Drawing on images [Dynamically]\n",
    "### Using Mouse to draw on an Image"
   ]
  },
  {
   "cell_type": "markdown",
   "metadata": {},
   "source": [
    "## Click and Draw"
   ]
  },
  {
   "cell_type": "code",
   "execution_count": 11,
   "metadata": {},
   "outputs": [],
   "source": [
    "import cv2\n",
    "import numpy as np\n",
    "import matplotlib.pyplot as plt\n",
    "%matplotlib inline\n",
    "\n",
    "##############\n",
    "## FUNCTION ##\n",
    "##############\n",
    "\n",
    "def draw_circle(event, x, y, flags, param):\n",
    "    if event == cv2.EVENT_LBUTTONDOWN:\n",
    "        cv2.circle(img, (x,y),radius = 50, color = (0,255,0), thickness = -1)\n",
    "    elif event == cv2.EVENT_RBUTTONDOWN:\n",
    "        cv2.circle(img, (x,y),radius = 50, color = (255,255,0), thickness = -1)\n",
    "\n",
    "\n",
    "# To connect the function to the image window\n",
    "\n",
    "cv2.namedWindow(winname = 'Dynamic_Drawing')\n",
    "cv2.setMouseCallback('Dynamic_Drawing', draw_circle)\n",
    "\n",
    "\n",
    "###############################\n",
    "## SHOWING IMAGE WITH OPENCV ##\n",
    "###############################\n",
    "\n",
    "img = np.zeros((512,512,3))\n",
    "while True:\n",
    "    cv2.imshow(\"Dynamic_Drawing\", img)\n",
    "    if cv2.waitKey(100) & 0xFF == 27:\n",
    "        break\n",
    "cv2.destroyAllWindows()"
   ]
  },
  {
   "cell_type": "markdown",
   "metadata": {},
   "source": [
    "## Drag and Draw"
   ]
  },
  {
   "cell_type": "code",
   "execution_count": null,
   "metadata": {},
   "outputs": [],
   "source": [
    "import cv2\n",
    "import numpy as np\n",
    "import matplotlib.pyplot as plt\n",
    "%matplotlib inline\n",
    "\n",
    "\n",
    "# VARIABLES\n",
    "\n",
    "# True: when mouse button down, False: when mose button Up\n",
    "drawing = False\n",
    "ix, iy = -1, -1\n",
    "\n",
    "\n",
    "# FUNCTIONS\n",
    "def draw_rectangle(event, x, y, flags, param):\n",
    "    global ix, iy, drawing\n",
    "    if event == cv2.EVENT_LBUTTONDOWN:\n",
    "        drawing = True\n",
    "        ix, iy = x, y\n",
    "    elif event == cv2.EVENT_MOUSEMOVE:\n",
    "        if drawing == True:\n",
    "            cv2.rectangle(img, (ix, iy), (x, y), color = (255,255,0), thickness = -1)\n",
    "    elif event == cv2.EVENT_LBUTTONUP:\n",
    "        drawing = False\n",
    "        cv2.rectangle(img, (ix, iy), (x, y), color = (255,255,0), thickness = -1)\n",
    "\n",
    "        \n",
    "# To connect the function to the image window\n",
    "cv2.namedWindow(winname = 'Drag_and_Draw')\n",
    "cv2.setMouseCallback('Drag_and_Draw',)\n",
    "\n",
    "\n",
    "###############################\n",
    "## SHOWING IMAGE WITH OPENCV ##\n",
    "###############################\n",
    "\n",
    "img = np.zeros((512,512,3))\n",
    "\n",
    "while True:\n",
    "    cv2.imshow(\"Drag_and_Draw\", img)\n",
    "    # Break when ESC pressed\n",
    "    if cv2.waitKey(20) & 0xFF == 27:\n",
    "        break\n",
    "cv2.destroyAllWindows()"
   ]
  }
 ],
 "metadata": {
  "kernelspec": {
   "display_name": "Python 3",
   "language": "python",
   "name": "python3"
  },
  "language_info": {
   "codemirror_mode": {
    "name": "ipython",
    "version": 3
   },
   "file_extension": ".py",
   "mimetype": "text/x-python",
   "name": "python",
   "nbconvert_exporter": "python",
   "pygments_lexer": "ipython3",
   "version": "3.6.6"
  }
 },
 "nbformat": 4,
 "nbformat_minor": 2
}
